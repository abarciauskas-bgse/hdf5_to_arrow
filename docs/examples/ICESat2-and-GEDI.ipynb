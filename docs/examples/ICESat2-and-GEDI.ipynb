{
 "cells": [
  {
   "cell_type": "markdown",
   "id": "ecab848f-6762-4846-931b-1f46bd3c654c",
   "metadata": {},
   "source": [
    "# Visualize GEDI L2B and ICESat-2 ATL08 data with `lonboard`\n",
    "\n",
    "## Import packages"
   ]
  },
  {
   "cell_type": "code",
   "execution_count": 1,
   "id": "cc601de5-af7a-4d25-bfcb-0029581b08be",
   "metadata": {},
   "outputs": [
    {
     "name": "stdout",
     "output_type": "stream",
     "text": [
      "Name: h5coro\n",
      "Version: 0.0.7\n",
      "Summary: Python package for reading HDF5 data from S3\n",
      "Home-page: https://github.com/SlideRuleEarth/h5coro/\n",
      "Author: SlideRule Developers\n",
      "Author-email: \n",
      "License: BSD 3-Clause\n",
      "Location: /srv/conda/envs/notebook/lib/python3.12/site-packages\n",
      "Requires: boto3, earthaccess, numpy, requests\n",
      "Required-by: \n"
     ]
    }
   ],
   "source": [
    "#!pip install -U h5coro\n",
    "!pip show h5coro # should be 0.0.7"
   ]
  },
  {
   "cell_type": "code",
   "execution_count": 2,
   "id": "b0d7ef88-e3be-45f7-a722-43d15f8455ff",
   "metadata": {},
   "outputs": [
    {
     "name": "stdout",
     "output_type": "stream",
     "text": [
      "Obtaining file:///home/jovyan/hdf5_to_arrow\n",
      "  Installing build dependencies ... \u001b[?25ldone\n",
      "\u001b[?25h  Checking if build backend supports build_editable ... \u001b[?25ldone\n",
      "\u001b[?25h  Getting requirements to build editable ... \u001b[?25ldone\n",
      "\u001b[?25h  Preparing editable metadata (pyproject.toml) ... \u001b[?25ldone\n",
      "\u001b[?25hBuilding wheels for collected packages: hdf5_to_arrow\n",
      "  Building editable for hdf5_to_arrow (pyproject.toml) ... \u001b[?25ldone\n",
      "\u001b[?25h  Created wheel for hdf5_to_arrow: filename=hdf5_to_arrow-0.0.0-0.editable-py3-none-any.whl size=2353 sha256=0bb2dfe91f0c0ca28d4387c63023e8ec2aa43f867b7dfedf32df34298af65804\n",
      "  Stored in directory: /tmp/pip-ephem-wheel-cache-xmm246pb/wheels/ae/ce/01/c1fb4e4c6de38effbec8721d370319faad116328643507e268\n",
      "Successfully built hdf5_to_arrow\n",
      "Installing collected packages: hdf5_to_arrow\n",
      "  Attempting uninstall: hdf5_to_arrow\n",
      "    Found existing installation: hdf5_to_arrow 0.0.0\n",
      "    Uninstalling hdf5_to_arrow-0.0.0:\n",
      "      Successfully uninstalled hdf5_to_arrow-0.0.0\n",
      "Successfully installed hdf5_to_arrow-0.0.0\n",
      "Note: you may need to restart the kernel to use updated packages.\n"
     ]
    }
   ],
   "source": [
    "pip install -e ../.."
   ]
  },
  {
   "cell_type": "code",
   "execution_count": 3,
   "id": "9ae33fcf-29cd-40cf-b377-586ae53fd676",
   "metadata": {},
   "outputs": [],
   "source": [
    "from datetime import datetime, timezone, timedelta\n",
    "import earthaccess"
   ]
  },
  {
   "cell_type": "code",
   "execution_count": 4,
   "id": "224ef16e-a69a-418d-9d56-0efb8c07d675",
   "metadata": {},
   "outputs": [],
   "source": [
    "import sys\n",
    "import os\n",
    "from hdf5_to_arrow import hdf5_to_arrow"
   ]
  },
  {
   "cell_type": "markdown",
   "id": "831bd1bc-e699-4558-b276-d369064dac22",
   "metadata": {},
   "source": [
    "# Generate credentials"
   ]
  },
  {
   "cell_type": "code",
   "execution_count": 5,
   "id": "e84eb9d2-bb1b-4336-a86b-919778c0f0b6",
   "metadata": {},
   "outputs": [
    {
     "name": "stdin",
     "output_type": "stream",
     "text": [
      "Enter your Earthdata Login username:  aimeeb\n",
      "Enter your Earthdata password:  ········\n"
     ]
    },
    {
     "data": {
      "text/plain": [
       "<earthaccess.auth.Auth at 0x7f2ebb417380>"
      ]
     },
     "execution_count": 5,
     "metadata": {},
     "output_type": "execute_result"
    }
   ],
   "source": [
    "earthaccess.login()"
   ]
  },
  {
   "cell_type": "code",
   "execution_count": 6,
   "id": "ec03c811-48c1-4c7b-be92-b76d1118269b",
   "metadata": {},
   "outputs": [],
   "source": [
    "nsidc_aws_creds = earthaccess.get_s3_credentials(daac='NSIDC')\n",
    "nsidc_credentials = dict(\n",
    "    aws_access_key_id=nsidc_aws_creds['accessKeyId'],\n",
    "    aws_secret_access_key=nsidc_aws_creds['secretAccessKey'],\n",
    "    aws_session_token=nsidc_aws_creds['sessionToken']\n",
    ")\n",
    "lpdaac_aws_creds = earthaccess.get_s3_credentials(daac='LPDAAC')\n",
    "lpdaac_credentials = dict(\n",
    "    aws_access_key_id=lpdaac_aws_creds['accessKeyId'],\n",
    "    aws_secret_access_key=lpdaac_aws_creds['secretAccessKey'],\n",
    "    aws_session_token=lpdaac_aws_creds['sessionToken']\n",
    ")"
   ]
  },
  {
   "cell_type": "markdown",
   "id": "686c7116-10b8-4ba2-bf55-1fc0711760ef",
   "metadata": {},
   "source": [
    "# Query for data uris (S3 URLs)"
   ]
  },
  {
   "cell_type": "code",
   "execution_count": 7,
   "id": "da8d535f-b3c7-4b3a-85f6-b0b4406321d2",
   "metadata": {},
   "outputs": [],
   "source": [
    "start = datetime(2021, 11, 1, tzinfo=timezone.utc)\n",
    "end = start + timedelta(days=7)\n",
    "\n",
    "atl08_results = earthaccess.search_data(\n",
    "    short_name=\"ATL08\",\n",
    "    cloud_hosted=True,\n",
    "    temporal=(start, end),\n",
    "    bounding_box=(-90,-56,-32,14),\n",
    "    count=-1\n",
    ")\n",
    "atl08_links = [result.data_links(access=\"direct\")[0] for result in atl08_results]"
   ]
  },
  {
   "cell_type": "code",
   "execution_count": 8,
   "id": "88312bd0-dfc0-4c0d-98b7-073f86efd965",
   "metadata": {},
   "outputs": [],
   "source": [
    "gedil2b_results = earthaccess.search_data(\n",
    "    short_name=\"GEDI02_B\",\n",
    "    cloud_hosted=True,\n",
    "    temporal=(start, end),\n",
    "    bounding_box=(-90,-56,-32,14),\n",
    "    count=-1\n",
    ")\n",
    "gedil2b_links = [result.data_links(access=\"direct\")[0] for result in gedil2b_results]"
   ]
  },
  {
   "cell_type": "markdown",
   "id": "f1e17a86-105a-445a-bb99-85d86e4b755a",
   "metadata": {},
   "source": [
    "# Construct dataset arguments"
   ]
  },
  {
   "cell_type": "code",
   "execution_count": 9,
   "id": "f40c5a03-5fe9-4e55-be19-9db7bbc4d72b",
   "metadata": {},
   "outputs": [],
   "source": [
    "atl08_variables = {\n",
    "    \"variables\": {\n",
    "        \"h_canopy\": {\"dataset\": \"/gt1l/land_segments/canopy/h_canopy\" },\n",
    "        \"dem_h\": {\"dataset\": \"/gt1l/land_segments/dem_h\" }\n",
    "    },\n",
    "    \"latitude\": {\"dataset\": \"/gt1l/land_segments/latitude\" },\n",
    "    \"longitude\": {\"dataset\": \"/gt1l/land_segments/longitude\" }\n",
    "}\n",
    "\n",
    "gedil2b_variables = {\n",
    "    \"variables\": {\n",
    "        \"cover\": {\"dataset\": \"BEAM0000/cover\" }\n",
    "    },\n",
    "    \"latitude\": {\"dataset\": \"/BEAM0000/geolocation/lat_highestreturn\" },\n",
    "    \"longitude\": {\"dataset\": \"/BEAM0000/geolocation/lon_highestreturn\" }\n",
    "}"
   ]
  },
  {
   "cell_type": "markdown",
   "id": "4c526f4a-f2bc-4805-a251-b61e8e1a188d",
   "metadata": {},
   "source": [
    "# Create table for 1 file\n",
    "\n",
    "Just to make sure it works."
   ]
  },
  {
   "cell_type": "code",
   "execution_count": 10,
   "id": "1f0c9081-aa81-4d99-89f0-6d2cec0781a4",
   "metadata": {},
   "outputs": [
    {
     "name": "stderr",
     "output_type": "stream",
     "text": [
      "1727237160.924091 WARNING [h5dataset.py:  277] gt1l/land_segments/canopy/h_canopy/DIMENSION_LIST is an unsupported datatype 7: unable to populate values\n"
     ]
    }
   ],
   "source": [
    "creator = hdf5_to_arrow.HDF5ArrowTableCreator(\n",
    "    uri=atl08_links[0],\n",
    "    datasets=atl08_variables,\n",
    "    credentials=nsidc_credentials,\n",
    "    mask_using='h_canopy'\n",
    ")\n",
    "table = creator.create_table()"
   ]
  },
  {
   "cell_type": "markdown",
   "id": "0976734b-5930-4f23-ab64-2d33615a3cc4",
   "metadata": {},
   "source": [
    "# Create table for all files"
   ]
  },
  {
   "cell_type": "code",
   "execution_count": 11,
   "id": "b6c419f0-2434-4350-af94-bce101ac6857",
   "metadata": {},
   "outputs": [
    {
     "name": "stdout",
     "output_type": "stream",
     "text": [
      "only handle 1-dimensional arrays\n",
      "only handle 1-dimensional arrays\n",
      "CPU times: user 87.7 ms, sys: 95.4 ms, total: 183 ms\n",
      "Wall time: 46.7 s\n"
     ]
    }
   ],
   "source": [
    "%%time\n",
    "gedil2b_table = hdf5_to_arrow.concat_tables(\n",
    "    uris=gedil2b_links,\n",
    "    datasets=gedil2b_variables,\n",
    "    credentials=lpdaac_credentials,\n",
    "    mask_using='cover'\n",
    ")"
   ]
  },
  {
   "cell_type": "code",
   "execution_count": 12,
   "id": "39b298ab-91fb-4eb9-b79d-62f71c269647",
   "metadata": {},
   "outputs": [
    {
     "name": "stderr",
     "output_type": "stream",
     "text": [
      "1727237211.045595 WARNING [h5dataset.py:  277] gt1l/land_segments/canopy/h_canopy/DIMENSION_LIST is an unsupported datatype 7: unable to populate values\n",
      "1727237211.221663 WARNING [h5dataset.py:  277] gt1l/land_segments/canopy/h_canopy/DIMENSION_LIST is an unsupported datatype 7: unable to populate values\n",
      "1727237211.410656 WARNING [h5dataset.py:  277] gt1l/land_segments/canopy/h_canopy/DIMENSION_LIST is an unsupported datatype 7: unable to populate values\n",
      "1727237211.465480 WARNING [h5dataset.py:  277] gt1l/land_segments/canopy/h_canopy/DIMENSION_LIST is an unsupported datatype 7: unable to populate values\n",
      "1727237212.241511 WARNING [h5dataset.py:  277] gt1l/land_segments/canopy/h_canopy/DIMENSION_LIST is an unsupported datatype 7: unable to populate values\n",
      "1727237212.500017 WARNING [h5dataset.py:  277] gt1l/land_segments/canopy/h_canopy/DIMENSION_LIST is an unsupported datatype 7: unable to populate values\n",
      "1727237212.745087 WARNING [h5dataset.py:  277] gt1l/land_segments/canopy/h_canopy/DIMENSION_LIST is an unsupported datatype 7: unable to populate values\n",
      "1727237212.938015 WARNING [h5dataset.py:  277] gt1l/land_segments/canopy/h_canopy/DIMENSION_LIST is an unsupported datatype 7: unable to populate values\n",
      "1727237213.640015 WARNING [h5dataset.py:  277] gt1l/land_segments/canopy/h_canopy/DIMENSION_LIST is an unsupported datatype 7: unable to populate values\n",
      "1727237213.662597 WARNING [h5dataset.py:  277] gt1l/land_segments/canopy/h_canopy/DIMENSION_LIST is an unsupported datatype 7: unable to populate values\n",
      "1727237213.928665 WARNING [h5dataset.py:  277] gt1l/land_segments/canopy/h_canopy/DIMENSION_LIST is an unsupported datatype 7: unable to populate values\n",
      "1727237214.042828 WARNING [h5dataset.py:  277] gt1l/land_segments/canopy/h_canopy/DIMENSION_LIST is an unsupported datatype 7: unable to populate values\n",
      "1727237215.055785 WARNING [h5dataset.py:  277] gt1l/land_segments/canopy/h_canopy/DIMENSION_LIST is an unsupported datatype 7: unable to populate values\n",
      "1727237215.056491 WARNING [h5dataset.py:  277] gt1l/land_segments/canopy/h_canopy/DIMENSION_LIST is an unsupported datatype 7: unable to populate values\n",
      "1727237215.118774 WARNING [h5dataset.py:  277] gt1l/land_segments/canopy/h_canopy/DIMENSION_LIST is an unsupported datatype 7: unable to populate values\n",
      "1727237215.139698 WARNING [h5dataset.py:  277] gt1l/land_segments/canopy/h_canopy/DIMENSION_LIST is an unsupported datatype 7: unable to populate values\n",
      "1727237216.149944 WARNING [h5dataset.py:  277] gt1l/land_segments/canopy/h_canopy/DIMENSION_LIST is an unsupported datatype 7: unable to populate values\n",
      "1727237216.150386 WARNING [h5dataset.py:  277] gt1l/land_segments/canopy/h_canopy/DIMENSION_LIST is an unsupported datatype 7: unable to populate values\n",
      "1727237216.172770 WARNING [h5dataset.py:  277] gt1l/land_segments/canopy/h_canopy/DIMENSION_LIST is an unsupported datatype 7: unable to populate values\n",
      "1727237216.272466 WARNING [h5dataset.py:  277] gt1l/land_segments/canopy/h_canopy/DIMENSION_LIST is an unsupported datatype 7: unable to populate values\n",
      "1727237217.310668 WARNING [h5dataset.py:  277] gt1l/land_segments/canopy/h_canopy/DIMENSION_LIST is an unsupported datatype 7: unable to populate values\n",
      "1727237217.341717 WARNING [h5dataset.py:  277] gt1l/land_segments/canopy/h_canopy/DIMENSION_LIST is an unsupported datatype 7: unable to populate values\n",
      "1727237217.929718 WARNING [h5dataset.py:  277] gt1l/land_segments/canopy/h_canopy/DIMENSION_LIST is an unsupported datatype 7: unable to populate values\n",
      "1727237218.421298 WARNING [h5dataset.py:  277] gt1l/land_segments/canopy/h_canopy/DIMENSION_LIST is an unsupported datatype 7: unable to populate values\n",
      "1727237218.818100 WARNING [h5dataset.py:  277] gt1l/land_segments/canopy/h_canopy/DIMENSION_LIST is an unsupported datatype 7: unable to populate values\n",
      "1727237218.900193 WARNING [h5dataset.py:  277] gt1l/land_segments/canopy/h_canopy/DIMENSION_LIST is an unsupported datatype 7: unable to populate values\n",
      "1727237219.055975 WARNING [h5dataset.py:  277] gt1l/land_segments/canopy/h_canopy/DIMENSION_LIST is an unsupported datatype 7: unable to populate values\n",
      "1727237219.327004 WARNING [h5dataset.py:  277] gt1l/land_segments/canopy/h_canopy/DIMENSION_LIST is an unsupported datatype 7: unable to populate values\n",
      "1727237219.772146 WARNING [h5dataset.py:  277] gt1l/land_segments/canopy/h_canopy/DIMENSION_LIST is an unsupported datatype 7: unable to populate values\n",
      "1727237219.828105 WARNING [h5dataset.py:  277] gt1l/land_segments/canopy/h_canopy/DIMENSION_LIST is an unsupported datatype 7: unable to populate values\n",
      "1727237219.966981 WARNING [h5dataset.py:  277] gt1l/land_segments/canopy/h_canopy/DIMENSION_LIST is an unsupported datatype 7: unable to populate values\n",
      "1727237220.617178 WARNING [h5dataset.py:  277] gt1l/land_segments/canopy/h_canopy/DIMENSION_LIST is an unsupported datatype 7: unable to populate values\n",
      "1727237221.121325 WARNING [h5dataset.py:  277] gt1l/land_segments/canopy/h_canopy/DIMENSION_LIST is an unsupported datatype 7: unable to populate values\n",
      "1727237221.344631 WARNING [h5dataset.py:  277] gt1l/land_segments/canopy/h_canopy/DIMENSION_LIST is an unsupported datatype 7: unable to populate values\n",
      "1727237221.587799 WARNING [h5dataset.py:  277] gt1l/land_segments/canopy/h_canopy/DIMENSION_LIST is an unsupported datatype 7: unable to populate values\n",
      "1727237221.824678 WARNING [h5dataset.py:  277] gt1l/land_segments/canopy/h_canopy/DIMENSION_LIST is an unsupported datatype 7: unable to populate values\n",
      "1727237223.034725 WARNING [h5dataset.py:  277] gt1l/land_segments/canopy/h_canopy/DIMENSION_LIST is an unsupported datatype 7: unable to populate values\n",
      "1727237223.343782 WARNING [h5dataset.py:  277] gt1l/land_segments/canopy/h_canopy/DIMENSION_LIST is an unsupported datatype 7: unable to populate values\n",
      "1727237223.577826 WARNING [h5dataset.py:  277] gt1l/land_segments/canopy/h_canopy/DIMENSION_LIST is an unsupported datatype 7: unable to populate values\n",
      "1727237223.756006 WARNING [h5dataset.py:  277] gt1l/land_segments/canopy/h_canopy/DIMENSION_LIST is an unsupported datatype 7: unable to populate values\n",
      "1727237223.811613 WARNING [h5dataset.py:  277] gt1l/land_segments/canopy/h_canopy/DIMENSION_LIST is an unsupported datatype 7: unable to populate values\n",
      "1727237224.596586 WARNING [h5dataset.py:  277] gt1l/land_segments/canopy/h_canopy/DIMENSION_LIST is an unsupported datatype 7: unable to populate values\n",
      "1727237224.673364 WARNING [h5dataset.py:  277] gt1l/land_segments/canopy/h_canopy/DIMENSION_LIST is an unsupported datatype 7: unable to populate values\n",
      "1727237225.096704 WARNING [h5dataset.py:  277] gt1l/land_segments/canopy/h_canopy/DIMENSION_LIST is an unsupported datatype 7: unable to populate values\n",
      "1727237225.350527 WARNING [h5dataset.py:  277] gt1l/land_segments/canopy/h_canopy/DIMENSION_LIST is an unsupported datatype 7: unable to populate values\n",
      "1727237225.968555 WARNING [h5dataset.py:  277] gt1l/land_segments/canopy/h_canopy/DIMENSION_LIST is an unsupported datatype 7: unable to populate values\n",
      "1727237226.173036 WARNING [h5dataset.py:  277] gt1l/land_segments/canopy/h_canopy/DIMENSION_LIST is an unsupported datatype 7: unable to populate values\n",
      "1727237226.195008 WARNING [h5dataset.py:  277] gt1l/land_segments/canopy/h_canopy/DIMENSION_LIST is an unsupported datatype 7: unable to populate values\n",
      "1727237227.263163 WARNING [h5dataset.py:  277] gt1l/land_segments/canopy/h_canopy/DIMENSION_LIST is an unsupported datatype 7: unable to populate values\n",
      "1727237227.361485 WARNING [h5dataset.py:  277] gt1l/land_segments/canopy/h_canopy/DIMENSION_LIST is an unsupported datatype 7: unable to populate values\n",
      "1727237227.529373 WARNING [h5dataset.py:  277] gt1l/land_segments/canopy/h_canopy/DIMENSION_LIST is an unsupported datatype 7: unable to populate values\n",
      "1727237228.213218 WARNING [h5dataset.py:  277] gt1l/land_segments/canopy/h_canopy/DIMENSION_LIST is an unsupported datatype 7: unable to populate values\n",
      "1727237228.412732 WARNING [h5dataset.py:  277] gt1l/land_segments/canopy/h_canopy/DIMENSION_LIST is an unsupported datatype 7: unable to populate values\n",
      "1727237228.726534 WARNING [h5dataset.py:  277] gt1l/land_segments/canopy/h_canopy/DIMENSION_LIST is an unsupported datatype 7: unable to populate values\n",
      "1727237228.743834 WARNING [h5dataset.py:  277] gt1l/land_segments/canopy/h_canopy/DIMENSION_LIST is an unsupported datatype 7: unable to populate values\n",
      "1727237229.254241 WARNING [h5dataset.py:  277] gt1l/land_segments/canopy/h_canopy/DIMENSION_LIST is an unsupported datatype 7: unable to populate values\n",
      "1727237229.525505 WARNING [h5dataset.py:  277] gt1l/land_segments/canopy/h_canopy/DIMENSION_LIST is an unsupported datatype 7: unable to populate values\n",
      "1727237229.646233 WARNING [h5dataset.py:  277] gt1l/land_segments/canopy/h_canopy/DIMENSION_LIST is an unsupported datatype 7: unable to populate values\n",
      "1727237230.039870 WARNING [h5dataset.py:  277] gt1l/land_segments/canopy/h_canopy/DIMENSION_LIST is an unsupported datatype 7: unable to populate values\n",
      "1727237230.517220 WARNING [h5dataset.py:  277] gt1l/land_segments/canopy/h_canopy/DIMENSION_LIST is an unsupported datatype 7: unable to populate values\n",
      "1727237230.802319 WARNING [h5dataset.py:  277] gt1l/land_segments/canopy/h_canopy/DIMENSION_LIST is an unsupported datatype 7: unable to populate values\n",
      "1727237230.823740 WARNING [h5dataset.py:  277] gt1l/land_segments/canopy/h_canopy/DIMENSION_LIST is an unsupported datatype 7: unable to populate values\n",
      "1727237231.059610 WARNING [h5dataset.py:  277] gt1l/land_segments/canopy/h_canopy/DIMENSION_LIST is an unsupported datatype 7: unable to populate values\n",
      "1727237231.459240 WARNING [h5dataset.py:  277] gt1l/land_segments/canopy/h_canopy/DIMENSION_LIST is an unsupported datatype 7: unable to populate values\n",
      "1727237231.761939 WARNING [h5dataset.py:  277] gt1l/land_segments/canopy/h_canopy/DIMENSION_LIST is an unsupported datatype 7: unable to populate values\n",
      "1727237231.908998 WARNING [h5dataset.py:  277] gt1l/land_segments/canopy/h_canopy/DIMENSION_LIST is an unsupported datatype 7: unable to populate values\n",
      "1727237232.015335 WARNING [h5dataset.py:  277] gt1l/land_segments/canopy/h_canopy/DIMENSION_LIST is an unsupported datatype 7: unable to populate values\n",
      "1727237232.818108 WARNING [h5dataset.py:  277] gt1l/land_segments/canopy/h_canopy/DIMENSION_LIST is an unsupported datatype 7: unable to populate values\n",
      "1727237233.348160 WARNING [h5dataset.py:  277] gt1l/land_segments/canopy/h_canopy/DIMENSION_LIST is an unsupported datatype 7: unable to populate values\n",
      "1727237233.727844 WARNING [h5dataset.py:  277] gt1l/land_segments/canopy/h_canopy/DIMENSION_LIST is an unsupported datatype 7: unable to populate values\n",
      "1727237233.989852 WARNING [h5dataset.py:  277] gt1l/land_segments/canopy/h_canopy/DIMENSION_LIST is an unsupported datatype 7: unable to populate values\n",
      "1727237234.113600 WARNING [h5dataset.py:  277] gt1l/land_segments/canopy/h_canopy/DIMENSION_LIST is an unsupported datatype 7: unable to populate values\n",
      "1727237234.340616 WARNING [h5dataset.py:  277] gt1l/land_segments/canopy/h_canopy/DIMENSION_LIST is an unsupported datatype 7: unable to populate values\n",
      "1727237235.224952 WARNING [h5dataset.py:  277] gt1l/land_segments/canopy/h_canopy/DIMENSION_LIST is an unsupported datatype 7: unable to populate values\n",
      "1727237235.276962 WARNING [h5dataset.py:  277] gt1l/land_segments/canopy/h_canopy/DIMENSION_LIST is an unsupported datatype 7: unable to populate values\n",
      "1727237235.297512 WARNING [h5dataset.py:  277] gt1l/land_segments/canopy/h_canopy/DIMENSION_LIST is an unsupported datatype 7: unable to populate values\n",
      "1727237235.802731 WARNING [h5dataset.py:  277] gt1l/land_segments/canopy/h_canopy/DIMENSION_LIST is an unsupported datatype 7: unable to populate values\n",
      "1727237236.506350 WARNING [h5dataset.py:  277] gt1l/land_segments/canopy/h_canopy/DIMENSION_LIST is an unsupported datatype 7: unable to populate values\n",
      "1727237236.842242 WARNING [h5dataset.py:  277] gt1l/land_segments/canopy/h_canopy/DIMENSION_LIST is an unsupported datatype 7: unable to populate values\n"
     ]
    },
    {
     "name": "stdout",
     "output_type": "stream",
     "text": [
      "only handle 1-dimensional arrays\n",
      "CPU times: user 96.4 ms, sys: 43.8 ms, total: 140 ms\n",
      "Wall time: 27 s\n"
     ]
    }
   ],
   "source": [
    "%%time\n",
    "atl08_table = hdf5_to_arrow.concat_tables(\n",
    "    uris=atl08_links,\n",
    "    datasets=atl08_variables,\n",
    "    credentials=nsidc_credentials,\n",
    "    mask_using='h_canopy'\n",
    ")"
   ]
  },
  {
   "cell_type": "markdown",
   "id": "acf60931-6891-49fc-bc50-48569419e2ef",
   "metadata": {},
   "source": [
    "# Visualize with lonboard"
   ]
  },
  {
   "cell_type": "code",
   "execution_count": 13,
   "id": "8698721b-83bf-4dc8-ae25-db0485cae660",
   "metadata": {},
   "outputs": [
    {
     "data": {
      "text/plain": [
       "3029759"
      ]
     },
     "execution_count": 13,
     "metadata": {},
     "output_type": "execute_result"
    }
   ],
   "source": [
    "# how many points?\n",
    "gedil2b_table['cover'].length() + atl08_table['h_canopy'].length()"
   ]
  },
  {
   "cell_type": "code",
   "execution_count": 14,
   "id": "802d57d6-b4f2-4b62-9977-26e3585f4002",
   "metadata": {},
   "outputs": [
    {
     "name": "stderr",
     "output_type": "stream",
     "text": [
      "/srv/conda/envs/notebook/lib/python3.12/site-packages/lonboard/_geoarrow/ops/reproject.py:23: UserWarning: No CRS exists on data. If no data is shown on the map, double check that your CRS is WGS84.\n",
      "  warn(\n"
     ]
    }
   ],
   "source": [
    "import lonboard\n",
    "\n",
    "atl08_layer = lonboard.ScatterplotLayer(table=atl08_table)\n",
    "gedil2b_layer = lonboard.ScatterplotLayer(table=gedil2b_table)"
   ]
  },
  {
   "cell_type": "code",
   "execution_count": 15,
   "id": "2fe7ff39-96f8-4ac7-98ef-e91abee6c3bb",
   "metadata": {},
   "outputs": [
    {
     "data": {
      "application/vnd.jupyter.widget-view+json": {
       "model_id": "5a01031fa4dc4b63aa91d5cefef14a7a",
       "version_major": 2,
       "version_minor": 1
      },
      "text/plain": [
       "Map(layers=[ScatterplotLayer(table=pyarrow.Table\n",
       "dem_h: float\n",
       "h_canopy: float\n",
       "geometry: fixed_size_list<item: …"
      ]
     },
     "execution_count": 15,
     "metadata": {},
     "output_type": "execute_result"
    }
   ],
   "source": [
    "m = lonboard.Map([atl08_layer, gedil2b_layer])\n",
    "m"
   ]
  }
 ],
 "metadata": {
  "kernelspec": {
   "display_name": "Python 3 (ipykernel)",
   "language": "python",
   "name": "python3"
  },
  "language_info": {
   "codemirror_mode": {
    "name": "ipython",
    "version": 3
   },
   "file_extension": ".py",
   "mimetype": "text/x-python",
   "name": "python",
   "nbconvert_exporter": "python",
   "pygments_lexer": "ipython3",
   "version": "3.12.5"
  }
 },
 "nbformat": 4,
 "nbformat_minor": 5
}
