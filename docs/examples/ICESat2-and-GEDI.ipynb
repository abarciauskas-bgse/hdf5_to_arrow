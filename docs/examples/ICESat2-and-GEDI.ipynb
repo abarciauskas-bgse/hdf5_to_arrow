{
 "cells": [
  {
   "cell_type": "markdown",
   "id": "ecab848f-6762-4846-931b-1f46bd3c654c",
   "metadata": {},
   "source": [
    "# Visualize GEDI L2B and ICESat-2 ATL08 data with `lonboard`\n",
    "\n",
    "## Import packages"
   ]
  },
  {
   "cell_type": "code",
   "execution_count": 13,
   "id": "cc601de5-af7a-4d25-bfcb-0029581b08be",
   "metadata": {},
   "outputs": [],
   "source": [
    "# !pip install -U h5coro\n",
    "# !pip show h5coro # should be 0.0.7"
   ]
  },
  {
   "cell_type": "code",
   "execution_count": 14,
   "id": "9ae33fcf-29cd-40cf-b377-586ae53fd676",
   "metadata": {},
   "outputs": [],
   "source": [
    "from datetime import datetime, timezone, timedelta\n",
    "import earthaccess"
   ]
  },
  {
   "cell_type": "code",
   "execution_count": 17,
   "id": "224ef16e-a69a-418d-9d56-0efb8c07d675",
   "metadata": {},
   "outputs": [],
   "source": [
    "# import the local package for testing the module\n",
    "import sys\n",
    "import os\n",
    "\n",
    "# Add the project directory to sys.path\n",
    "local_package_path = os.path.abspath(os.path.join('..', '..', '..'))\n",
    "sys.path.insert(0, local_package_path)\n",
    "import hdf5_to_arrow"
   ]
  },
  {
   "cell_type": "markdown",
   "id": "831bd1bc-e699-4558-b276-d369064dac22",
   "metadata": {},
   "source": [
    "# Generate credentials"
   ]
  },
  {
   "cell_type": "code",
   "execution_count": 18,
   "id": "e84eb9d2-bb1b-4336-a86b-919778c0f0b6",
   "metadata": {},
   "outputs": [
    {
     "data": {
      "text/plain": [
       "<earthaccess.auth.Auth at 0x7f54e2077510>"
      ]
     },
     "execution_count": 18,
     "metadata": {},
     "output_type": "execute_result"
    }
   ],
   "source": [
    "earthaccess.login()"
   ]
  },
  {
   "cell_type": "code",
   "execution_count": 19,
   "id": "ec03c811-48c1-4c7b-be92-b76d1118269b",
   "metadata": {},
   "outputs": [],
   "source": [
    "nsidc_aws_creds = earthaccess.get_s3_credentials(daac='NSIDC')\n",
    "nsidc_credentials = dict(\n",
    "    aws_access_key_id=nsidc_aws_creds['accessKeyId'],\n",
    "    aws_secret_access_key=nsidc_aws_creds['secretAccessKey'],\n",
    "    aws_session_token=nsidc_aws_creds['sessionToken']\n",
    ")\n",
    "lpdaac_aws_creds = earthaccess.get_s3_credentials(daac='LPDAAC')\n",
    "lpdaac_credentials = dict(\n",
    "    aws_access_key_id=lpdaac_aws_creds['accessKeyId'],\n",
    "    aws_secret_access_key=lpdaac_aws_creds['secretAccessKey'],\n",
    "    aws_session_token=lpdaac_aws_creds['sessionToken']\n",
    ")"
   ]
  },
  {
   "cell_type": "markdown",
   "id": "686c7116-10b8-4ba2-bf55-1fc0711760ef",
   "metadata": {},
   "source": [
    "# Query for data uris (S3 URLs)"
   ]
  },
  {
   "cell_type": "code",
   "execution_count": 7,
   "id": "da8d535f-b3c7-4b3a-85f6-b0b4406321d2",
   "metadata": {},
   "outputs": [],
   "source": [
    "start = datetime(2021, 11, 1, tzinfo=timezone.utc)\n",
    "end = start + timedelta(days=7)\n",
    "\n",
    "atl08_results = earthaccess.search_data(\n",
    "    short_name=\"ATL08\",\n",
    "    cloud_hosted=True,\n",
    "    temporal=(start, end),\n",
    "    bounding_box=(-90,-56,-32,14),\n",
    "    count=-1\n",
    ")\n",
    "atl08_links = [result.data_links(access=\"direct\")[0] for result in atl08_results]"
   ]
  },
  {
   "cell_type": "code",
   "execution_count": 8,
   "id": "88312bd0-dfc0-4c0d-98b7-073f86efd965",
   "metadata": {},
   "outputs": [],
   "source": [
    "gedil2b_results = earthaccess.search_data(\n",
    "    short_name=\"GEDI02_B\",\n",
    "    cloud_hosted=True,\n",
    "    temporal=(start, end),\n",
    "    bounding_box=(-90,-56,-32,14),\n",
    "    count=-1\n",
    ")\n",
    "gedil2b_links = [result.data_links(access=\"direct\")[0] for result in gedil2b_results]"
   ]
  },
  {
   "cell_type": "markdown",
   "id": "f1e17a86-105a-445a-bb99-85d86e4b755a",
   "metadata": {},
   "source": [
    "# Construct dataset arguments"
   ]
  },
  {
   "cell_type": "code",
   "execution_count": 9,
   "id": "f40c5a03-5fe9-4e55-be19-9db7bbc4d72b",
   "metadata": {},
   "outputs": [],
   "source": [
    "atl08_variables = {\n",
    "    \"variables\": {\n",
    "        \"h_canopy\": {\"dataset\": \"/gt1l/land_segments/canopy/h_canopy\" },\n",
    "        \"dem_h\": {\"dataset\": \"/gt1l/land_segments/dem_h\" }\n",
    "    },\n",
    "    \"latitude\": {\"dataset\": \"/gt1l/land_segments/latitude\" },\n",
    "    \"longitude\": {\"dataset\": \"/gt1l/land_segments/longitude\" }\n",
    "}\n",
    "\n",
    "gedil2b_variables = {\n",
    "    \"variables\": {\n",
    "        \"cover\": {\"dataset\": \"BEAM0000/cover\" }\n",
    "    },\n",
    "    \"latitude\": {\"dataset\": \"/BEAM0000/geolocation/lat_highestreturn\" },\n",
    "    \"longitude\": {\"dataset\": \"/BEAM0000/geolocation/lon_highestreturn\" }\n",
    "}"
   ]
  },
  {
   "cell_type": "markdown",
   "id": "4c526f4a-f2bc-4805-a251-b61e8e1a188d",
   "metadata": {},
   "source": [
    "# Create table for 1 file\n",
    "\n",
    "Just to make sure it works."
   ]
  },
  {
   "cell_type": "code",
   "execution_count": 20,
   "id": "1f0c9081-aa81-4d99-89f0-6d2cec0781a4",
   "metadata": {},
   "outputs": [
    {
     "name": "stderr",
     "output_type": "stream",
     "text": [
      "1724362594.803694 WARNING [h5dataset.py:  277] gt1l/land_segments/canopy/h_canopy/DIMENSION_LIST is an unsupported datatype 7: unable to populate values\n"
     ]
    }
   ],
   "source": [
    "creator = hdf5_to_arrow.HDF5ArrowTableCreator(\n",
    "    uri=atl08_links[0],\n",
    "    datasets=atl08_variables,\n",
    "    credentials=nsidc_credentials,\n",
    "    mask_using='h_canopy'\n",
    ")\n",
    "table = creator.create_table()"
   ]
  },
  {
   "cell_type": "markdown",
   "id": "0976734b-5930-4f23-ab64-2d33615a3cc4",
   "metadata": {},
   "source": [
    "# Create table for all files"
   ]
  },
  {
   "cell_type": "code",
   "execution_count": 21,
   "id": "b6c419f0-2434-4350-af94-bce101ac6857",
   "metadata": {},
   "outputs": [
    {
     "name": "stdout",
     "output_type": "stream",
     "text": [
      "only handle 1-dimensional arrays\n",
      "only handle 1-dimensional arrays\n",
      "CPU times: user 97.7 ms, sys: 101 ms, total: 199 ms\n",
      "Wall time: 47.1 s\n"
     ]
    }
   ],
   "source": [
    "%%time\n",
    "gedil2b_table = hdf5_to_arrow.concat_tables(\n",
    "    uris=gedil2b_links,\n",
    "    datasets=gedil2b_variables,\n",
    "    credentials=lpdaac_credentials,\n",
    "    mask_using='cover'\n",
    ")"
   ]
  },
  {
   "cell_type": "code",
   "execution_count": 22,
   "id": "39b298ab-91fb-4eb9-b79d-62f71c269647",
   "metadata": {},
   "outputs": [
    {
     "name": "stderr",
     "output_type": "stream",
     "text": [
      "1724362649.705434 WARNING [h5dataset.py:  277] gt1l/land_segments/canopy/h_canopy/DIMENSION_LIST is an unsupported datatype 7: unable to populate values\n",
      "1724362649.756840 WARNING [h5dataset.py:  277] gt1l/land_segments/canopy/h_canopy/DIMENSION_LIST is an unsupported datatype 7: unable to populate values\n",
      "1724362649.788502 WARNING [h5dataset.py:  277] gt1l/land_segments/canopy/h_canopy/DIMENSION_LIST is an unsupported datatype 7: unable to populate values\n",
      "1724362649.849726 WARNING [h5dataset.py:  277] gt1l/land_segments/canopy/h_canopy/DIMENSION_LIST is an unsupported datatype 7: unable to populate values\n",
      "1724362650.837690 WARNING [h5dataset.py:  277] gt1l/land_segments/canopy/h_canopy/DIMENSION_LIST is an unsupported datatype 7: unable to populate values\n",
      "1724362650.869672 WARNING [h5dataset.py:  277] gt1l/land_segments/canopy/h_canopy/DIMENSION_LIST is an unsupported datatype 7: unable to populate values\n",
      "1724362651.189878 WARNING [h5dataset.py:  277] gt1l/land_segments/canopy/h_canopy/DIMENSION_LIST is an unsupported datatype 7: unable to populate values\n",
      "1724362651.560921 WARNING [h5dataset.py:  277] gt1l/land_segments/canopy/h_canopy/DIMENSION_LIST is an unsupported datatype 7: unable to populate values\n",
      "1724362652.053810 WARNING [h5dataset.py:  277] gt1l/land_segments/canopy/h_canopy/DIMENSION_LIST is an unsupported datatype 7: unable to populate values\n",
      "1724362652.145070 WARNING [h5dataset.py:  277] gt1l/land_segments/canopy/h_canopy/DIMENSION_LIST is an unsupported datatype 7: unable to populate values\n",
      "1724362652.137165 WARNING [h5dataset.py:  277] gt1l/land_segments/canopy/h_canopy/DIMENSION_LIST is an unsupported datatype 7: unable to populate values\n",
      "1724362652.384400 WARNING [h5dataset.py:  277] gt1l/land_segments/canopy/h_canopy/DIMENSION_LIST is an unsupported datatype 7: unable to populate values\n",
      "1724362653.088185 WARNING [h5dataset.py:  277] gt1l/land_segments/canopy/h_canopy/DIMENSION_LIST is an unsupported datatype 7: unable to populate values\n",
      "1724362653.368573 WARNING [h5dataset.py:  277] gt1l/land_segments/canopy/h_canopy/DIMENSION_LIST is an unsupported datatype 7: unable to populate values\n",
      "1724362653.896685 WARNING [h5dataset.py:  277] gt1l/land_segments/canopy/h_canopy/DIMENSION_LIST is an unsupported datatype 7: unable to populate values\n",
      "1724362653.992396 WARNING [h5dataset.py:  277] gt1l/land_segments/canopy/h_canopy/DIMENSION_LIST is an unsupported datatype 7: unable to populate values\n",
      "1724362654.844519 WARNING [h5dataset.py:  277] gt1l/land_segments/canopy/h_canopy/DIMENSION_LIST is an unsupported datatype 7: unable to populate values\n",
      "1724362655.176524 WARNING [h5dataset.py:  277] gt1l/land_segments/canopy/h_canopy/DIMENSION_LIST is an unsupported datatype 7: unable to populate values\n",
      "1724362655.280233 WARNING [h5dataset.py:  277] gt1l/land_segments/canopy/h_canopy/DIMENSION_LIST is an unsupported datatype 7: unable to populate values\n",
      "1724362655.361216 WARNING [h5dataset.py:  277] gt1l/land_segments/canopy/h_canopy/DIMENSION_LIST is an unsupported datatype 7: unable to populate values\n",
      "1724362655.864877 WARNING [h5dataset.py:  277] gt1l/land_segments/canopy/h_canopy/DIMENSION_LIST is an unsupported datatype 7: unable to populate values\n",
      "1724362656.282201 WARNING [h5dataset.py:  277] gt1l/land_segments/canopy/h_canopy/DIMENSION_LIST is an unsupported datatype 7: unable to populate values\n",
      "1724362656.457384 WARNING [h5dataset.py:  277] gt1l/land_segments/canopy/h_canopy/DIMENSION_LIST is an unsupported datatype 7: unable to populate values\n",
      "1724362656.900716 WARNING [h5dataset.py:  277] gt1l/land_segments/canopy/h_canopy/DIMENSION_LIST is an unsupported datatype 7: unable to populate values\n",
      "1724362657.312056 WARNING [h5dataset.py:  277] gt1l/land_segments/canopy/h_canopy/DIMENSION_LIST is an unsupported datatype 7: unable to populate values\n",
      "1724362657.698523 WARNING [h5dataset.py:  277] gt1l/land_segments/canopy/h_canopy/DIMENSION_LIST is an unsupported datatype 7: unable to populate values\n",
      "1724362657.781884 WARNING [h5dataset.py:  277] gt1l/land_segments/canopy/h_canopy/DIMENSION_LIST is an unsupported datatype 7: unable to populate values\n",
      "1724362658.111015 WARNING [h5dataset.py:  277] gt1l/land_segments/canopy/h_canopy/DIMENSION_LIST is an unsupported datatype 7: unable to populate values\n",
      "1724362658.666484 WARNING [h5dataset.py:  277] gt1l/land_segments/canopy/h_canopy/DIMENSION_LIST is an unsupported datatype 7: unable to populate values\n",
      "1724362658.675744 WARNING [h5dataset.py:  277] gt1l/land_segments/canopy/h_canopy/DIMENSION_LIST is an unsupported datatype 7: unable to populate values\n",
      "1724362658.785035 WARNING [h5dataset.py:  277] gt1l/land_segments/canopy/h_canopy/DIMENSION_LIST is an unsupported datatype 7: unable to populate values\n",
      "1724362659.226003 WARNING [h5dataset.py:  277] gt1l/land_segments/canopy/h_canopy/DIMENSION_LIST is an unsupported datatype 7: unable to populate values\n",
      "1724362659.714068 WARNING [h5dataset.py:  277] gt1l/land_segments/canopy/h_canopy/DIMENSION_LIST is an unsupported datatype 7: unable to populate values\n",
      "1724362659.736073 WARNING [h5dataset.py:  277] gt1l/land_segments/canopy/h_canopy/DIMENSION_LIST is an unsupported datatype 7: unable to populate values\n",
      "1724362660.379167 WARNING [h5dataset.py:  277] gt1l/land_segments/canopy/h_canopy/DIMENSION_LIST is an unsupported datatype 7: unable to populate values\n",
      "1724362660.490911 WARNING [h5dataset.py:  277] gt1l/land_segments/canopy/h_canopy/DIMENSION_LIST is an unsupported datatype 7: unable to populate values\n",
      "1724362660.932933 WARNING [h5dataset.py:  277] gt1l/land_segments/canopy/h_canopy/DIMENSION_LIST is an unsupported datatype 7: unable to populate values\n",
      "1724362661.595539 WARNING [h5dataset.py:  277] gt1l/land_segments/canopy/h_canopy/DIMENSION_LIST is an unsupported datatype 7: unable to populate values\n",
      "1724362661.864325 WARNING [h5dataset.py:  277] gt1l/land_segments/canopy/h_canopy/DIMENSION_LIST is an unsupported datatype 7: unable to populate values\n",
      "1724362662.293761 WARNING [h5dataset.py:  277] gt1l/land_segments/canopy/h_canopy/DIMENSION_LIST is an unsupported datatype 7: unable to populate values\n",
      "1724362662.383600 WARNING [h5dataset.py:  277] gt1l/land_segments/canopy/h_canopy/DIMENSION_LIST is an unsupported datatype 7: unable to populate values\n",
      "1724362662.970949 WARNING [h5dataset.py:  277] gt1l/land_segments/canopy/h_canopy/DIMENSION_LIST is an unsupported datatype 7: unable to populate values\n",
      "1724362663.005265 WARNING [h5dataset.py:  277] gt1l/land_segments/canopy/h_canopy/DIMENSION_LIST is an unsupported datatype 7: unable to populate values\n",
      "1724362664.041353 WARNING [h5dataset.py:  277] gt1l/land_segments/canopy/h_canopy/DIMENSION_LIST is an unsupported datatype 7: unable to populate values\n",
      "1724362664.276596 WARNING [h5dataset.py:  277] gt1l/land_segments/canopy/h_canopy/DIMENSION_LIST is an unsupported datatype 7: unable to populate values\n",
      "1724362664.376101 WARNING [h5dataset.py:  277] gt1l/land_segments/canopy/h_canopy/DIMENSION_LIST is an unsupported datatype 7: unable to populate values\n",
      "1724362664.461829 WARNING [h5dataset.py:  277] gt1l/land_segments/canopy/h_canopy/DIMENSION_LIST is an unsupported datatype 7: unable to populate values\n",
      "1724362665.077574 WARNING [h5dataset.py:  277] gt1l/land_segments/canopy/h_canopy/DIMENSION_LIST is an unsupported datatype 7: unable to populate values\n",
      "1724362665.559505 WARNING [h5dataset.py:  277] gt1l/land_segments/canopy/h_canopy/DIMENSION_LIST is an unsupported datatype 7: unable to populate values\n",
      "1724362665.686197 WARNING [h5dataset.py:  277] gt1l/land_segments/canopy/h_canopy/DIMENSION_LIST is an unsupported datatype 7: unable to populate values\n",
      "1724362665.828944 WARNING [h5dataset.py:  277] gt1l/land_segments/canopy/h_canopy/DIMENSION_LIST is an unsupported datatype 7: unable to populate values\n",
      "1724362666.050219 WARNING [h5dataset.py:  277] gt1l/land_segments/canopy/h_canopy/DIMENSION_LIST is an unsupported datatype 7: unable to populate values\n",
      "1724362666.608564 WARNING [h5dataset.py:  277] gt1l/land_segments/canopy/h_canopy/DIMENSION_LIST is an unsupported datatype 7: unable to populate values\n",
      "1724362666.959456 WARNING [h5dataset.py:  277] gt1l/land_segments/canopy/h_canopy/DIMENSION_LIST is an unsupported datatype 7: unable to populate values\n",
      "1724362666.994410 WARNING [h5dataset.py:  277] gt1l/land_segments/canopy/h_canopy/DIMENSION_LIST is an unsupported datatype 7: unable to populate values\n",
      "1724362667.188542 WARNING [h5dataset.py:  277] gt1l/land_segments/canopy/h_canopy/DIMENSION_LIST is an unsupported datatype 7: unable to populate values\n",
      "1724362667.444172 WARNING [h5dataset.py:  277] gt1l/land_segments/canopy/h_canopy/DIMENSION_LIST is an unsupported datatype 7: unable to populate values\n",
      "1724362668.100843 WARNING [h5dataset.py:  277] gt1l/land_segments/canopy/h_canopy/DIMENSION_LIST is an unsupported datatype 7: unable to populate values\n",
      "1724362668.133683 WARNING [h5dataset.py:  277] gt1l/land_segments/canopy/h_canopy/DIMENSION_LIST is an unsupported datatype 7: unable to populate values\n",
      "1724362668.147286 WARNING [h5dataset.py:  277] gt1l/land_segments/canopy/h_canopy/DIMENSION_LIST is an unsupported datatype 7: unable to populate values\n",
      "1724362668.292441 WARNING [h5dataset.py:  277] gt1l/land_segments/canopy/h_canopy/DIMENSION_LIST is an unsupported datatype 7: unable to populate values\n",
      "1724362669.059864 WARNING [h5dataset.py:  277] gt1l/land_segments/canopy/h_canopy/DIMENSION_LIST is an unsupported datatype 7: unable to populate values\n",
      "1724362669.397204 WARNING [h5dataset.py:  277] gt1l/land_segments/canopy/h_canopy/DIMENSION_LIST is an unsupported datatype 7: unable to populate values\n",
      "1724362669.643147 WARNING [h5dataset.py:  277] gt1l/land_segments/canopy/h_canopy/DIMENSION_LIST is an unsupported datatype 7: unable to populate values\n",
      "1724362669.750899 WARNING [h5dataset.py:  277] gt1l/land_segments/canopy/h_canopy/DIMENSION_LIST is an unsupported datatype 7: unable to populate values\n",
      "1724362670.396738 WARNING [h5dataset.py:  277] gt1l/land_segments/canopy/h_canopy/DIMENSION_LIST is an unsupported datatype 7: unable to populate values\n",
      "1724362670.524892 WARNING [h5dataset.py:  277] gt1l/land_segments/canopy/h_canopy/DIMENSION_LIST is an unsupported datatype 7: unable to populate values\n",
      "1724362671.142246 WARNING [h5dataset.py:  277] gt1l/land_segments/canopy/h_canopy/DIMENSION_LIST is an unsupported datatype 7: unable to populate values\n",
      "1724362671.548051 WARNING [h5dataset.py:  277] gt1l/land_segments/canopy/h_canopy/DIMENSION_LIST is an unsupported datatype 7: unable to populate values\n",
      "1724362671.900518 WARNING [h5dataset.py:  277] gt1l/land_segments/canopy/h_canopy/DIMENSION_LIST is an unsupported datatype 7: unable to populate values\n",
      "1724362672.178346 WARNING [h5dataset.py:  277] gt1l/land_segments/canopy/h_canopy/DIMENSION_LIST is an unsupported datatype 7: unable to populate values\n",
      "1724362672.237483 WARNING [h5dataset.py:  277] gt1l/land_segments/canopy/h_canopy/DIMENSION_LIST is an unsupported datatype 7: unable to populate values\n",
      "1724362672.287476 WARNING [h5dataset.py:  277] gt1l/land_segments/canopy/h_canopy/DIMENSION_LIST is an unsupported datatype 7: unable to populate values\n",
      "1724362672.979796 WARNING [h5dataset.py:  277] gt1l/land_segments/canopy/h_canopy/DIMENSION_LIST is an unsupported datatype 7: unable to populate values\n",
      "1724362673.402663 WARNING [h5dataset.py:  277] gt1l/land_segments/canopy/h_canopy/DIMENSION_LIST is an unsupported datatype 7: unable to populate values\n",
      "1724362673.467571 WARNING [h5dataset.py:  277] gt1l/land_segments/canopy/h_canopy/DIMENSION_LIST is an unsupported datatype 7: unable to populate values\n",
      "1724362673.883404 WARNING [h5dataset.py:  277] gt1l/land_segments/canopy/h_canopy/DIMENSION_LIST is an unsupported datatype 7: unable to populate values\n",
      "1724362674.229853 WARNING [h5dataset.py:  277] gt1l/land_segments/canopy/h_canopy/DIMENSION_LIST is an unsupported datatype 7: unable to populate values\n",
      "1724362674.793001 WARNING [h5dataset.py:  277] gt1l/land_segments/canopy/h_canopy/DIMENSION_LIST is an unsupported datatype 7: unable to populate values\n"
     ]
    },
    {
     "name": "stdout",
     "output_type": "stream",
     "text": [
      "only handle 1-dimensional arrays\n"
     ]
    }
   ],
   "source": [
    "atl08_table = hdf5_to_arrow.concat_tables(\n",
    "    uris=atl08_links,\n",
    "    datasets=atl08_variables,\n",
    "    credentials=nsidc_credentials,\n",
    "    mask_using='h_canopy'\n",
    ")"
   ]
  },
  {
   "cell_type": "markdown",
   "id": "acf60931-6891-49fc-bc50-48569419e2ef",
   "metadata": {},
   "source": [
    "# Visualize with lonboard"
   ]
  },
  {
   "cell_type": "code",
   "execution_count": 30,
   "id": "8698721b-83bf-4dc8-ae25-db0485cae660",
   "metadata": {},
   "outputs": [
    {
     "data": {
      "text/plain": [
       "3029759"
      ]
     },
     "execution_count": 30,
     "metadata": {},
     "output_type": "execute_result"
    }
   ],
   "source": [
    "# how many points?\n",
    "gedil2b_table['cover'].length() + atl08_table['h_canopy'].length()"
   ]
  },
  {
   "cell_type": "code",
   "execution_count": 31,
   "id": "802d57d6-b4f2-4b62-9977-26e3585f4002",
   "metadata": {},
   "outputs": [],
   "source": [
    "import lonboard\n",
    "\n",
    "atl08_layer = lonboard.ScatterplotLayer(table=atl08_table)\n",
    "gedil2b_layer = lonboard.ScatterplotLayer(table=gedil2b_table)"
   ]
  },
  {
   "cell_type": "code",
   "execution_count": 32,
   "id": "2fe7ff39-96f8-4ac7-98ef-e91abee6c3bb",
   "metadata": {},
   "outputs": [
    {
     "data": {
      "application/vnd.jupyter.widget-view+json": {
       "model_id": "785f0264d27949419e086d2092f6b195",
       "version_major": 2,
       "version_minor": 1
      },
      "text/plain": [
       "Map(layers=[ScatterplotLayer(table=pyarrow.Table\n",
       "dem_h: float\n",
       "h_canopy: float\n",
       "geometry: fixed_size_list<item: …"
      ]
     },
     "execution_count": 32,
     "metadata": {},
     "output_type": "execute_result"
    }
   ],
   "source": [
    "m = lonboard.Map([atl08_layer, gedil2b_layer])\n",
    "m"
   ]
  }
 ],
 "metadata": {
  "kernelspec": {
   "display_name": "Python 3 (ipykernel)",
   "language": "python",
   "name": "python3"
  },
  "language_info": {
   "codemirror_mode": {
    "name": "ipython",
    "version": 3
   },
   "file_extension": ".py",
   "mimetype": "text/x-python",
   "name": "python",
   "nbconvert_exporter": "python",
   "pygments_lexer": "ipython3",
   "version": "3.11.9"
  }
 },
 "nbformat": 4,
 "nbformat_minor": 5
}
